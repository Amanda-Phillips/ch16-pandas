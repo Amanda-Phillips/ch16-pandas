{
 "cells": [
  {
   "cell_type": "markdown",
   "metadata": {},
   "source": [
    "# Exercise 2\n",
    "Add the specified code for each code cell, running the cells _in order_."
   ]
  },
  {
   "cell_type": "markdown",
   "metadata": {},
   "source": [
    "Run the below cell to import `pandas` and `numpy`"
   ]
  },
  {
   "cell_type": "code",
   "execution_count": 1,
   "metadata": {},
   "outputs": [],
   "source": [
    "import pandas as pd\n",
    "import numpy as np"
   ]
  },
  {
   "cell_type": "markdown",
   "metadata": {},
   "source": [
    "Create a Series of 100 employees **`names`** (\"Employee 1\", \"Employee 2\", ... \"Employee 100\"). _Tip:_ use a list comprehension to produce the list of strings by concatenating \"Employee\" with the numbers from a range.\n",
    "- Use the `head()` and `tail()` methods to print the first and last 3 employees to check your work."
   ]
  },
  {
   "cell_type": "code",
   "execution_count": 2,
   "metadata": {},
   "outputs": [
    {
     "name": "stdout",
     "output_type": "stream",
     "text": [
      "0    Employee 1\n",
      "1    Employee 2\n",
      "2    Employee 3\n",
      "dtype: object\n",
      "97     Employee 98\n",
      "98     Employee 99\n",
      "99    Employee 100\n",
      "dtype: object\n"
     ]
    }
   ],
   "source": [
    "employees = pd.Series(['Employee '+str(num) for num in range(1,101)])\n",
    "print(employees.head(3))\n",
    "print(employees.tail(3))"
   ]
  },
  {
   "cell_type": "markdown",
   "metadata": {},
   "source": [
    "Create a Series of 100 random salaries for the year 2016. These should be uniformly distributed between 40000 and 50000. _Hint:_ try using the [**numpy.random.uniform()**](https://docs.scipy.org/doc/numpy/reference/generated/numpy.random.uniform.html) function, or call the Python `random.uniform()` function repeatedly.\n",
    "- This is not a liveable wage in Seattle, and in fact is below US median :("
   ]
  },
  {
   "cell_type": "code",
   "execution_count": 3,
   "metadata": {},
   "outputs": [],
   "source": [
    "salaries_2016 = pd.Series(np.random.uniform(40000, 50000, 100))"
   ]
  },
  {
   "cell_type": "markdown",
   "metadata": {},
   "source": [
    "Create a Series of 100 salaries in 2017 that have changed from 2016 by a random amount between -5000 and 10000."
   ]
  },
  {
   "cell_type": "code",
   "execution_count": 4,
   "metadata": {},
   "outputs": [],
   "source": [
    "salaries_2017 = salaries_2016 + np.random.uniform(-5000, 10000, 100)"
   ]
  },
  {
   "cell_type": "markdown",
   "metadata": {},
   "source": [
    "Create a DataFrame **`salaries`** by combining the three Series you just made (employee names, 2016 salaries, and 2017 salaries)."
   ]
  },
  {
   "cell_type": "code",
   "execution_count": 5,
   "metadata": {},
   "outputs": [],
   "source": [
    "salaries = pd.DataFrame({'employee':employees, \n",
    "                         'salary_2016':salaries_2016, \n",
    "                         'salary_2017':salaries_2017})"
   ]
  },
  {
   "cell_type": "markdown",
   "metadata": {},
   "source": [
    "Print the first 10 rows in the `salaries` DataFrame."
   ]
  },
  {
   "cell_type": "code",
   "execution_count": 6,
   "metadata": {},
   "outputs": [
    {
     "name": "stdout",
     "output_type": "stream",
     "text": [
      "      employee   salary_2016   salary_2017\n",
      "0   Employee 1  43519.944650  41975.068443\n",
      "1   Employee 2  46594.238648  48510.009355\n",
      "2   Employee 3  45706.636217  41931.008216\n",
      "3   Employee 4  42134.674823  51154.553051\n",
      "4   Employee 5  43619.994946  39150.819293\n",
      "5   Employee 6  43392.288159  50620.172129\n",
      "6   Employee 7  45859.265973  42575.037300\n",
      "7   Employee 8  43669.648568  43708.352567\n",
      "8   Employee 9  46066.097281  44063.245321\n",
      "9  Employee 10  41560.547728  43223.566289\n"
     ]
    }
   ],
   "source": [
    "print(salaries.head(10))"
   ]
  },
  {
   "cell_type": "markdown",
   "metadata": {},
   "source": [
    "Add a column **`change`** to your DataFrame that contains the difference in salary between 2017 and 2016."
   ]
  },
  {
   "cell_type": "code",
   "execution_count": 7,
   "metadata": {},
   "outputs": [],
   "source": [
    "salaries['change'] = salaries.salary_2017 - salaries.salary_2016"
   ]
  },
  {
   "cell_type": "markdown",
   "metadata": {},
   "source": [
    "Add a column **`got_raise`** to your DataFrame that is `True` if the employee got a raise (their salary increased) in 2017."
   ]
  },
  {
   "cell_type": "code",
   "execution_count": 8,
   "metadata": {},
   "outputs": [
    {
     "name": "stdout",
     "output_type": "stream",
     "text": [
      "     employee   salary_2016   salary_2017       change  got_raise\n",
      "0  Employee 1  43519.944650  41975.068443 -1544.876207      False\n",
      "1  Employee 2  46594.238648  48510.009355  1915.770707       True\n",
      "2  Employee 3  45706.636217  41931.008216 -3775.628002      False\n",
      "3  Employee 4  42134.674823  51154.553051  9019.878227       True\n",
      "4  Employee 5  43619.994946  39150.819293 -4469.175652      False\n"
     ]
    }
   ],
   "source": [
    "salaries['got_raise'] = salaries.change > 0\n",
    "print(salaries.head(5))"
   ]
  },
  {
   "cell_type": "markdown",
   "metadata": {},
   "source": [
    "**Retrieve values from the `salaries` DataFrame to answer the following questions. Try to get as specific a value as possible (e.g., a single value rather than the whole row!)**"
   ]
  },
  {
   "cell_type": "markdown",
   "metadata": {},
   "source": [
    "What was the 2017 salary of Employee 57?"
   ]
  },
  {
   "cell_type": "code",
   "execution_count": 9,
   "metadata": {},
   "outputs": [
    {
     "name": "stdout",
     "output_type": "stream",
     "text": [
      "47036.1775628\n"
     ]
    }
   ],
   "source": [
    "salary_57_in_2017 = salaries.loc[58, 'salary_2017']\n",
    "print(salary_57_in_2017)"
   ]
  },
  {
   "cell_type": "markdown",
   "metadata": {},
   "source": [
    "How many employees got a raise? (It should be around 2/3rds)"
   ]
  },
  {
   "cell_type": "code",
   "execution_count": 10,
   "metadata": {},
   "outputs": [
    {
     "data": {
      "text/plain": [
       "70"
      ]
     },
     "execution_count": 10,
     "metadata": {},
     "output_type": "execute_result"
    }
   ],
   "source": [
    "len(salaries[salaries.got_raise == True])"
   ]
  },
  {
   "cell_type": "markdown",
   "metadata": {},
   "source": [
    "What was the amount of the largest raise?"
   ]
  },
  {
   "cell_type": "code",
   "execution_count": 11,
   "metadata": {},
   "outputs": [
    {
     "name": "stdout",
     "output_type": "stream",
     "text": [
      "9792.61847674\n"
     ]
    }
   ],
   "source": [
    "highest_raise = salaries.change.max()\n",
    "print(highest_raise)"
   ]
  },
  {
   "cell_type": "markdown",
   "metadata": {},
   "source": [
    "What was the \"name\" of the employee who received the highest raise?"
   ]
  },
  {
   "cell_type": "code",
   "execution_count": 12,
   "metadata": {},
   "outputs": [
    {
     "data": {
      "text/plain": [
       "'Employee 56'"
      ]
     },
     "execution_count": 12,
     "metadata": {},
     "output_type": "execute_result"
    }
   ],
   "source": [
    "salaries.loc[salaries.change == highest_raise, 'employee'].iloc[0]"
   ]
  },
  {
   "cell_type": "markdown",
   "metadata": {},
   "source": [
    "What is the name and 2017 salary of the person who received the largest payment (decrease in salary) between the two years?"
   ]
  },
  {
   "cell_type": "code",
   "execution_count": 13,
   "metadata": {},
   "outputs": [
    {
     "data": {
      "text/plain": [
       "employee       Employee 14\n",
       "salary_2017        37756.3\n",
       "Name: 13, dtype: object"
      ]
     },
     "execution_count": 13,
     "metadata": {},
     "output_type": "execute_result"
    }
   ],
   "source": [
    "salaries.loc[salaries.change == salaries.change.min(), ['employee','salary_2017']].iloc[0]"
   ]
  }
 ],
 "metadata": {
  "kernelspec": {
   "display_name": "Python 3",
   "language": "python",
   "name": "python3"
  },
  "language_info": {
   "codemirror_mode": {
    "name": "ipython",
    "version": 3
   },
   "file_extension": ".py",
   "mimetype": "text/x-python",
   "name": "python",
   "nbconvert_exporter": "python",
   "pygments_lexer": "ipython3",
   "version": "3.6.1"
  },
  "toc": {
   "colors": {
    "hover_highlight": "#DAA520",
    "running_highlight": "#FF0000",
    "selected_highlight": "#FFD700"
   },
   "moveMenuLeft": true,
   "nav_menu": {
    "height": "30px",
    "width": "252px"
   },
   "navigate_menu": true,
   "number_sections": true,
   "sideBar": true,
   "threshold": 4,
   "toc_cell": false,
   "toc_section_display": "block",
   "toc_window_display": false,
   "widenNotebook": false
  }
 },
 "nbformat": 4,
 "nbformat_minor": 2
}
